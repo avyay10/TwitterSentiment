{
  "nbformat": 4,
  "nbformat_minor": 0,
  "metadata": {
    "colab": {
      "provenance": [],
      "authorship_tag": "ABX9TyN69TqeL06SMwtHN4/m5cjL",
      "include_colab_link": true
    },
    "kernelspec": {
      "name": "python3",
      "display_name": "Python 3"
    },
    "language_info": {
      "name": "python"
    }
  },
  "cells": [
    {
      "cell_type": "markdown",
      "metadata": {
        "id": "view-in-github",
        "colab_type": "text"
      },
      "source": [
        "<a href=\"https://colab.research.google.com/github/avyay10/TwitterSentiment/blob/main/Predictive.ipynb\" target=\"_parent\"><img src=\"https://colab.research.google.com/assets/colab-badge.svg\" alt=\"Open In Colab\"/></a>"
      ]
    },
    {
      "cell_type": "code",
      "execution_count": null,
      "metadata": {
        "id": "7MENmFtPz6sq"
      },
      "outputs": [],
      "source": [
        "import pandas as pd\n",
        "import numpy as np\n",
        "from sklearn.model_selection import train_test_split"
      ]
    },
    {
      "cell_type": "code",
      "source": [
        "meow = pd.read_csv(\"articles2.csv\")\n",
        "\n",
        "meow.loc[(meow[\"sentiment\"] < -1/10) & (meow[\"sentiment\"] >= -1) , \"sentiment\"] = -1\n",
        "meow.loc[(meow[\"sentiment\"] < 1/10) & (meow[\"sentiment\"] >= -1/10) , \"sentiment\"] = 0\n",
        "meow.loc[(meow[\"sentiment\"] <= 1) & (meow[\"sentiment\"] >= 1/10) , \"sentiment\"] = 1\n",
        "\n",
        "print(meow['sentiment'].unique())\n",
        "print(meow['sentiment'].isin([-1]).sum())\n",
        "print(meow['sentiment'].isin([0]).sum())\n",
        "print(meow['sentiment'].isin([1]).sum())\n"
      ],
      "metadata": {
        "colab": {
          "base_uri": "https://localhost:8080/"
        },
        "id": "EQ7qCsntz89g",
        "outputId": "cba7b18b-8c1f-4235-de48-bec5023b3871"
      },
      "execution_count": null,
      "outputs": [
        {
          "output_type": "stream",
          "name": "stdout",
          "text": [
            "[ 1.  0. -1.]\n",
            "4654\n",
            "22771\n",
            "23143\n"
          ]
        }
      ]
    },
    {
      "cell_type": "code",
      "source": [
        "positive_df = meow[meow['sentiment'] == 1]\n",
        "train_positive = positive_df[:3000]\n",
        "test_positive = positive_df[3000:3750]\n",
        "\n",
        "neutral_df = meow[meow['sentiment'] == 0]\n",
        "train_neutral = neutral_df[:3000]\n",
        "test_neutral = neutral_df[3000:3750]\n",
        "\n",
        "neg_df = meow[meow['sentiment'] == -1]\n",
        "train_neg = neg_df[:3000]\n",
        "test_neg = neg_df[3000:3750]"
      ],
      "metadata": {
        "id": "tcAYIps20FRn"
      },
      "execution_count": null,
      "outputs": []
    },
    {
      "cell_type": "code",
      "source": [
        "traindf = train_positive.append([train_neutral,train_neg])\n",
        "testdf = test_positive.append([test_neutral,test_neg])\n",
        "\n",
        "df = traindf.append(testdf, sort=False)\n",
        "\n",
        "#print(meow['sentiment'].head(25))\n",
        "y = df[[\"sentiment\",\"location\",\"date\",\"Confirmed\"]]\n",
        "X = df[[\"tweet\"]]\n"
      ],
      "metadata": {
        "id": "IJqJy6oU0IVn"
      },
      "execution_count": null,
      "outputs": []
    },
    {
      "cell_type": "code",
      "source": [
        "from sklearn.feature_extraction.text import TfidfVectorizer\n",
        "vectorizer = TfidfVectorizer()\n",
        "tfidfX = vectorizer.fit_transform(X[\"tweet\"])\n",
        "#print(vectorizer.get_feature_names())\n",
        "print(tfidfX.shape)\n",
        "\n",
        "X_train, X_test, y_train, y_test = train_test_split(tfidfX, y, test_size=0.2, random_state=0)\n",
        "\n",
        "y_train_sent = y_train[[\"sentiment\"]]\n",
        "y_test_sent = y_test[[\"sentiment\"]]"
      ],
      "metadata": {
        "colab": {
          "base_uri": "https://localhost:8080/"
        },
        "id": "NonmIGwR0KWY",
        "outputId": "d5fa78e5-3e3b-4ff0-8e27-7a28bfa1b83c"
      },
      "execution_count": null,
      "outputs": [
        {
          "output_type": "stream",
          "name": "stdout",
          "text": [
            "(11250, 31069)\n"
          ]
        }
      ]
    },
    {
      "cell_type": "code",
      "source": [
        "C=[1.0]\n",
        "penalty=['l1']\n",
        "from sklearn.linear_model import LogisticRegression\n",
        "from sklearn import metrics\n",
        "from sklearn.metrics import classification_report, confusion_matrix, accuracy_score"
      ],
      "metadata": {
        "id": "w4rqXBfd0MMv"
      },
      "execution_count": null,
      "outputs": []
    },
    {
      "cell_type": "code",
      "source": [
        "for i in C:\n",
        "    for j in penalty:\n",
        "        clf = LogisticRegression(C = i, penalty=j, solver = 'saga', max_iter = 200).fit(X_train, y_train_sent)\n",
        "        test_score = clf.score(X_test, y_test_sent)\n",
        "        print(test_score)\n",
        "        print(i, j)"
      ],
      "metadata": {
        "colab": {
          "base_uri": "https://localhost:8080/"
        },
        "id": "GzQA95u40NyP",
        "outputId": "633d5047-9608-4f0b-8dc7-afa84c5bb7c2"
      },
      "execution_count": null,
      "outputs": [
        {
          "output_type": "stream",
          "name": "stderr",
          "text": [
            "/usr/local/lib/python3.7/dist-packages/sklearn/utils/validation.py:993: DataConversionWarning: A column-vector y was passed when a 1d array was expected. Please change the shape of y to (n_samples, ), for example using ravel().\n",
            "  y = column_or_1d(y, warn=True)\n"
          ]
        },
        {
          "output_type": "stream",
          "name": "stdout",
          "text": [
            "0.4106666666666667\n",
            "1.0 l1\n"
          ]
        }
      ]
    },
    {
      "cell_type": "code",
      "source": [
        "test_predictions = clf.predict(X_test)\n",
        "print(confusion_matrix(y_test_sent,test_predictions))  \n",
        "print(classification_report(y_test_sent,test_predictions))  \n",
        "print(accuracy_score(y_test_sent, test_predictions))"
      ],
      "metadata": {
        "colab": {
          "base_uri": "https://localhost:8080/"
        },
        "id": "usWJP9iB0UZ-",
        "outputId": "6f6689a5-de6a-45ab-9b8e-f472b7b3a15c"
      },
      "execution_count": null,
      "outputs": [
        {
          "output_type": "stream",
          "name": "stdout",
          "text": [
            "[[362 164 223]\n",
            " [201 280 287]\n",
            " [198 253 282]]\n",
            "              precision    recall  f1-score   support\n",
            "\n",
            "        -1.0       0.48      0.48      0.48       749\n",
            "         0.0       0.40      0.36      0.38       768\n",
            "         1.0       0.36      0.38      0.37       733\n",
            "\n",
            "    accuracy                           0.41      2250\n",
            "   macro avg       0.41      0.41      0.41      2250\n",
            "weighted avg       0.41      0.41      0.41      2250\n",
            "\n",
            "0.4106666666666667\n"
          ]
        }
      ]
    },
    {
      "cell_type": "code",
      "source": [
        "import matplotlib.pyplot as plt \n",
        "import datetime\n",
        "dates = y_train['date'].unique()\n",
        "converted_dates = list(map(datetime.datetime.strptime, dates, len(dates)*['%Y-%m-%d']))\n",
        "stateX = X_train.toarray()\n",
        "#ylist = classifier_linear.predict(stateX)\n",
        "#print(ylist)\n",
        "from matplotlib import pyplot as plt\n",
        "#_df = y_train[(y_train['location']==state)] #& (y_train['date']< '2020-04-19')]\n",
        "y_df = y_train\n",
        "y_df['date'] = pd.to_datetime(y_df['date'])\n",
        "#print(type(y_df['date']))\n",
        "print(y_df['date'].dtype)\n",
        "y_df['predicted_sent'] = clf.predict(stateX)\n",
        "# import IPython\n",
        "# IPython.embed()\n",
        "y_df = y_df.groupby('date', as_index=False).mean()\n",
        "# print(type(y_df))\n",
        "# plt.scatter(y_df.index,y_df['predicted_sent'])\n",
        "# plt.scatter(y_df['date'],y_df['predicted_sent'])0\n",
        "plt.title(\"United States Average Sentiment\")\n",
        "plt.xlabel('Date')\n",
        "plt.ylabel('Sentiment')\n",
        "plt.scatter(y_df['date'],list(y_df['predicted_sent']))\n",
        "plt.yticks(rotation=90)\n",
        "plt.show()"
      ],
      "metadata": {
        "colab": {
          "base_uri": "https://localhost:8080/",
          "height": 312
        },
        "id": "9-TpiYVd0W7_",
        "outputId": "8e07635e-fbb4-4ab9-ff4c-e29c57da454b"
      },
      "execution_count": null,
      "outputs": [
        {
          "output_type": "stream",
          "name": "stdout",
          "text": [
            "datetime64[ns]\n"
          ]
        },
        {
          "output_type": "display_data",
          "data": {
            "text/plain": [
              "<Figure size 432x288 with 1 Axes>"
            ],
            "image/png": "[encoded data removed]"
          },
          "metadata": {
            "needs_background": "light"
          }
        }
      ]
    },
    {
      "cell_type": "code",
      "source": [],
      "metadata": {
        "id": "_CbCAcKC2SbI"
      },
      "execution_count": null,
      "outputs": []
    }
  ]
}